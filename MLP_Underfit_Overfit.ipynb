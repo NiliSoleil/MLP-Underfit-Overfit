{
  "nbformat": 4,
  "nbformat_minor": 0,
  "metadata": {
    "colab": {
      "provenance": [],
      "include_colab_link": true
    },
    "kernelspec": {
      "name": "python3",
      "display_name": "Python 3"
    },
    "language_info": {
      "name": "python"
    },
    "accelerator": "GPU",
    "gpuClass": "standard"
  },
  "cells": [
    {
      "cell_type": "markdown",
      "metadata": {
        "id": "view-in-github",
        "colab_type": "text"
      },
      "source": [
        "<a href=\"https://colab.research.google.com/github/NiliSoleil/MLP-Underfit-Overfit/blob/main/MLP_Underfit_Overfit.ipynb\" target=\"_parent\"><img src=\"https://colab.research.google.com/assets/colab-badge.svg\" alt=\"Open In Colab\"/></a>"
      ]
    },
    {
      "cell_type": "code",
      "source": [
        "from google.colab import drive\n",
        "drive.mount('/content/drive')"
      ],
      "metadata": {
        "colab": {
          "base_uri": "https://localhost:8080/"
        },
        "id": "PBJ6N1ZYsgbo",
        "outputId": "8d80d06a-6a1d-4ec4-ad50-d200714fb52d"
      },
      "execution_count": null,
      "outputs": [
        {
          "output_type": "stream",
          "name": "stdout",
          "text": [
            "Mounted at /content/drive\n"
          ]
        }
      ]
    },
    {
      "cell_type": "code",
      "source": [
        "!nvidia-smi"
      ],
      "metadata": {
        "id": "GejQboDyynpL",
        "colab": {
          "base_uri": "https://localhost:8080/"
        },
        "outputId": "0535b673-8e32-4f0d-9218-b162f65a70a3"
      },
      "execution_count": null,
      "outputs": [
        {
          "output_type": "stream",
          "name": "stdout",
          "text": [
            "Wed Jun 13 16:35:23 2025       \n",
            "+---------------------------------------------------------------------------------------+\n",
            "| NVIDIA-SMI 535.104.05             Driver Version: 535.104.05   CUDA Version: 12.2     |\n",
            "|-----------------------------------------+----------------------+----------------------+\n",
            "| GPU  Name                 Persistence-M | Bus-Id        Disp.A | Volatile Uncorr. ECC |\n",
            "| Fan  Temp   Perf          Pwr:Usage/Cap |         Memory-Usage | GPU-Util  Compute M. |\n",
            "|                                         |                      |               MIG M. |\n",
            "|=========================================+======================+======================|\n",
            "|   0  Tesla T4                       Off | 00000000:00:04.0 Off |                    0 |\n",
            "| N/A   53C    P8              10W /  70W |      0MiB / 15360MiB |      0%      Default |\n",
            "|                                         |                      |                  N/A |\n",
            "+-----------------------------------------+----------------------+----------------------+\n",
            "                                                                                         \n",
            "+---------------------------------------------------------------------------------------+\n",
            "| Processes:                                                                            |\n",
            "|  GPU   GI   CI        PID   Type   Process name                            GPU Memory |\n",
            "|        ID   ID                                                             Usage      |\n",
            "|=======================================================================================|\n",
            "|  No running processes found                                                           |\n",
            "+---------------------------------------------------------------------------------------+\n"
          ]
        }
      ]
    },
    {
      "cell_type": "markdown",
      "source": [
        "# **Imports 📢**"
      ],
      "metadata": {
        "id": "fQFlVvECeZsD"
      }
    },
    {
      "cell_type": "code",
      "source": [
        "!pip install torchmetrics"
      ],
      "metadata": {
        "id": "dQ9OIgAs4iWa",
        "colab": {
          "base_uri": "https://localhost:8080/"
        },
        "outputId": "2113a223-59d3-4f51-978f-058adb305ff4"
      },
      "execution_count": null,
      "outputs": [
        {
          "output_type": "stream",
          "name": "stdout",
          "text": [
            "Collecting torchmetrics\n",
            "  Downloading torchmetrics-1.3.1-py3-none-any.whl (840 kB)\n",
            "\u001b[?25l     \u001b[90m━━━━━━━━━━━━━━━━━━━━━━━━━━━━━━━━━━━━━━━━\u001b[0m \u001b[32m0.0/840.4 kB\u001b[0m \u001b[31m?\u001b[0m eta \u001b[36m-:--:--\u001b[0m\r\u001b[2K     \u001b[91m━━━━━━━━━━━━━━\u001b[0m\u001b[91m╸\u001b[0m\u001b[90m━━━━━━━━━━━━━━━━━━━━━━━━━\u001b[0m \u001b[32m307.2/840.4 kB\u001b[0m \u001b[31m9.4 MB/s\u001b[0m eta \u001b[36m0:00:01\u001b[0m\r\u001b[2K     \u001b[91m━━━━━━━━━━━━━━━━━━━━━━━━━━━━━━━━━━━━━━━\u001b[0m\u001b[91m╸\u001b[0m \u001b[32m839.7/840.4 kB\u001b[0m \u001b[31m14.4 MB/s\u001b[0m eta \u001b[36m0:00:01\u001b[0m\r\u001b[2K     \u001b[90m━━━━━━━━━━━━━━━━━━━━━━━━━━━━━━━━━━━━━━━━\u001b[0m \u001b[32m840.4/840.4 kB\u001b[0m \u001b[31m12.1 MB/s\u001b[0m eta \u001b[36m0:00:00\u001b[0m\n",
            "\u001b[?25hRequirement already satisfied: numpy>1.20.0 in /usr/local/lib/python3.10/dist-packages (from torchmetrics) (1.25.2)\n",
            "Requirement already satisfied: packaging>17.1 in /usr/local/lib/python3.10/dist-packages (from torchmetrics) (23.2)\n",
            "Requirement already satisfied: torch>=1.10.0 in /usr/local/lib/python3.10/dist-packages (from torchmetrics) (2.1.0+cu121)\n",
            "Collecting lightning-utilities>=0.8.0 (from torchmetrics)\n",
            "  Downloading lightning_utilities-0.10.1-py3-none-any.whl (24 kB)\n",
            "Requirement already satisfied: setuptools in /usr/local/lib/python3.10/dist-packages (from lightning-utilities>=0.8.0->torchmetrics) (67.7.2)\n",
            "Requirement already satisfied: typing-extensions in /usr/local/lib/python3.10/dist-packages (from lightning-utilities>=0.8.0->torchmetrics) (4.10.0)\n",
            "Requirement already satisfied: filelock in /usr/local/lib/python3.10/dist-packages (from torch>=1.10.0->torchmetrics) (3.13.1)\n",
            "Requirement already satisfied: sympy in /usr/local/lib/python3.10/dist-packages (from torch>=1.10.0->torchmetrics) (1.12)\n",
            "Requirement already satisfied: networkx in /usr/local/lib/python3.10/dist-packages (from torch>=1.10.0->torchmetrics) (3.2.1)\n",
            "Requirement already satisfied: jinja2 in /usr/local/lib/python3.10/dist-packages (from torch>=1.10.0->torchmetrics) (3.1.3)\n",
            "Requirement already satisfied: fsspec in /usr/local/lib/python3.10/dist-packages (from torch>=1.10.0->torchmetrics) (2023.6.0)\n",
            "Requirement already satisfied: triton==2.1.0 in /usr/local/lib/python3.10/dist-packages (from torch>=1.10.0->torchmetrics) (2.1.0)\n",
            "Requirement already satisfied: MarkupSafe>=2.0 in /usr/local/lib/python3.10/dist-packages (from jinja2->torch>=1.10.0->torchmetrics) (2.1.5)\n",
            "Requirement already satisfied: mpmath>=0.19 in /usr/local/lib/python3.10/dist-packages (from sympy->torch>=1.10.0->torchmetrics) (1.3.0)\n",
            "Installing collected packages: lightning-utilities, torchmetrics\n",
            "Successfully installed lightning-utilities-0.10.1 torchmetrics-1.3.1\n"
          ]
        }
      ]
    },
    {
      "cell_type": "code",
      "execution_count": null,
      "metadata": {
        "id": "Jnc2LOc9eRjD"
      },
      "outputs": [],
      "source": [
        "import torch\n",
        "import torch.nn as nn\n",
        "import torch.optim as optim\n",
        "from torch.utils.data import TensorDataset, DataLoader, random_split\n",
        "\n",
        "import pandas as pd\n",
        "import matplotlib.pyplot as plt\n",
        "from sklearn.model_selection import train_test_split\n",
        "from torchmetrics import Accuracy\n",
        "from tqdm import tqdm\n",
        "import csv"
      ]
    },
    {
      "cell_type": "markdown",
      "source": [
        "# **Dataset 🗂️**"
      ],
      "metadata": {
        "id": "OsNaqujTeiGx"
      }
    },
    {
      "cell_type": "markdown",
      "source": [
        "## Read Dataset"
      ],
      "metadata": {
        "id": "3kNFvE61Q7sC"
      }
    },
    {
      "cell_type": "code",
      "source": [
        "##read dataset\n",
        "# !cp yourـdatasetـaddrres/shuttle.trn.Z /content/\n"
      ],
      "metadata": {
        "id": "b6VI5hKSTU_L"
      },
      "execution_count": null,
      "outputs": []
    },
    {
      "cell_type": "code",
      "source": [
        "##uncompress\n",
        "!uncompress /content/shuttle.trn.Z\n"
      ],
      "metadata": {
        "id": "rhv0ZRi_ec_K"
      },
      "execution_count": null,
      "outputs": []
    },
    {
      "cell_type": "code",
      "source": [
        "def read_file(file, phase):\n",
        "    with open(file, 'rb') as fh:\n",
        "      decompressed_data = fh.read()\n",
        "    list_data = decompressed_data.decode('utf-8').splitlines()\n",
        "    with open(phase +\".csv\",\"w\", newline=\"\") as f:\n",
        "        writer = csv.writer(f)\n",
        "        for line in list_data:\n",
        "            # making cells by using , delimiters\n",
        "            writer.writerow(line.split(\" \"))\n"
      ],
      "metadata": {
        "id": "b18SVXvm_QIb"
      },
      "execution_count": null,
      "outputs": []
    },
    {
      "cell_type": "code",
      "source": [
        "##readfile\n",
        "read_file('shuttle.trn', \"train\")\n",
        "\n",
        "train_dataset = pd.read_csv(\"/content/train.csv\", header=None)\n",
        "\n",
        "X = train_dataset.iloc[:, :-1].values\n",
        "y = train_dataset.iloc[:, -1].values - 1"
      ],
      "metadata": {
        "id": "kYaYRyCi_qfZ"
      },
      "execution_count": null,
      "outputs": []
    },
    {
      "cell_type": "markdown",
      "source": [
        "## Split"
      ],
      "metadata": {
        "id": "_RlAcfkrvBDn"
      }
    },
    {
      "cell_type": "code",
      "source": [
        "X_train, X_valid, y_train, y_valid = train_test_split(X, y, test_size=0.3, random_state=42)"
      ],
      "metadata": {
        "id": "ml1npqT8yzrO"
      },
      "execution_count": null,
      "outputs": []
    },
    {
      "cell_type": "markdown",
      "source": [
        "## Preprocess"
      ],
      "metadata": {
        "id": "5qOD027He6RR"
      }
    },
    {
      "cell_type": "code",
      "source": [
        "# Convert to tensor\n",
        "X_train = torch.FloatTensor(X_train)\n",
        "y_train = torch.LongTensor(y_train)\n",
        "\n",
        "X_valid = torch.FloatTensor(X_valid)\n",
        "y_valid = torch.LongTensor(y_valid)\n",
        "\n",
        "# Standardization\n",
        "mu = torch.mean(X_train, dim=0)\n",
        "std = torch.std(X_train, dim=0)\n",
        "\n",
        "X_train = (X_train - mu) / std\n",
        "X_valid = (X_valid - mu) / std"
      ],
      "metadata": {
        "id": "w7hFEHNGe91D"
      },
      "execution_count": null,
      "outputs": []
    },
    {
      "cell_type": "markdown",
      "source": [
        "## Dataloader"
      ],
      "metadata": {
        "id": "Fy195c8EfWDJ"
      }
    },
    {
      "cell_type": "code",
      "source": [
        "train_data = TensorDataset(X_train, y_train)\n",
        "train_loader = DataLoader(train_data, batch_size=64, shuffle=True)\n",
        "\n",
        "valid_data = TensorDataset(X_valid, y_valid)\n",
        "valid_loader = DataLoader(valid_data, batch_size=128)"
      ],
      "metadata": {
        "id": "ZSSRbHM0fT-A"
      },
      "execution_count": null,
      "outputs": []
    },
    {
      "cell_type": "markdown",
      "source": [
        "# **Model 🧠**"
      ],
      "metadata": {
        "id": "-NBcJXJkfgUI"
      }
    },
    {
      "cell_type": "code",
      "source": [
        "def mlp_model():\n",
        "  \"\"\"Initializes multi layer perceptron model\"\"\"\n",
        "  in_features = 9\n",
        "  num_class = 7\n",
        "  h1 = 64\n",
        "  h2 = 32\n",
        "\n",
        "  model = nn.Sequential(nn.Linear(in_features, h1),\n",
        "                        nn.ReLU(),\n",
        "                        nn.Linear(h1, h2),\n",
        "                        nn.ReLU(),\n",
        "                        nn.Linear(h2, num_class))\n",
        "  return model\n",
        "\n",
        "model = mlp_model()\n",
        "model\n"
      ],
      "metadata": {
        "id": "2b9Po2RYfi8C",
        "colab": {
          "base_uri": "https://localhost:8080/"
        },
        "outputId": "b1df1074-7022-4872-fa20-26b2376dc8d7"
      },
      "execution_count": null,
      "outputs": [
        {
          "output_type": "execute_result",
          "data": {
            "text/plain": [
              "Sequential(\n",
              "  (0): Linear(in_features=9, out_features=64, bias=True)\n",
              "  (1): ReLU()\n",
              "  (2): Linear(in_features=64, out_features=32, bias=True)\n",
              "  (3): ReLU()\n",
              "  (4): Linear(in_features=32, out_features=7, bias=True)\n",
              ")"
            ]
          },
          "metadata": {},
          "execution_count": 11
        }
      ]
    },
    {
      "cell_type": "markdown",
      "source": [
        "# **Device ⚙️**"
      ],
      "metadata": {
        "id": "DY5JMY1Yftsr"
      }
    },
    {
      "cell_type": "code",
      "source": [
        "device = 'cuda' if torch.cuda.is_available() else 'cpu'\n",
        "model = model.to(device)"
      ],
      "metadata": {
        "id": "Ce6_MpTcfrGi"
      },
      "execution_count": null,
      "outputs": []
    },
    {
      "cell_type": "markdown",
      "source": [
        "# **Loss ⚖️**"
      ],
      "metadata": {
        "id": "xFbRtOqLfnh6"
      }
    },
    {
      "cell_type": "markdown",
      "source": [
        "## CrossEntropyLoss"
      ],
      "metadata": {
        "id": "f5iDi4F4Cpws"
      }
    },
    {
      "cell_type": "code",
      "source": [
        "loss_fn = nn.CrossEntropyLoss()"
      ],
      "metadata": {
        "id": "EpzTOAOafj8e"
      },
      "execution_count": null,
      "outputs": []
    },
    {
      "cell_type": "markdown",
      "source": [
        "# **Optimizer📻**"
      ],
      "metadata": {
        "id": "8dejGbh1C1zJ"
      }
    },
    {
      "cell_type": "markdown",
      "source": [
        "## SGD"
      ],
      "metadata": {
        "id": "b39HneYjC_-l"
      }
    },
    {
      "cell_type": "code",
      "source": [
        "optimizer = optim.SGD(model.parameters(), lr=0.01, momentum=0.9, nesterov=True, weight_decay=1e-4)"
      ],
      "metadata": {
        "id": "uc9TWmYsDBKl"
      },
      "execution_count": null,
      "outputs": []
    },
    {
      "cell_type": "markdown",
      "source": [
        "# **Utils 🧰**"
      ],
      "metadata": {
        "id": "mbpEEA0g1-Be"
      }
    },
    {
      "cell_type": "code",
      "source": [
        "class AverageMeter(object):\n",
        "    \"\"\"Computes and stores the average and current value\"\"\"\n",
        "    def __init__(self):\n",
        "        self.reset()\n",
        "\n",
        "    def reset(self):\n",
        "        self.val = 0\n",
        "        self.avg = 0\n",
        "        self.sum = 0\n",
        "        self.count = 0\n",
        "\n",
        "    def update(self, val, n=1):\n",
        "        self.val = val\n",
        "        self.sum += val * n\n",
        "        self.count += n\n",
        "        self.avg = self.sum / self.count"
      ],
      "metadata": {
        "id": "G6s889_UrqDT"
      },
      "execution_count": null,
      "outputs": []
    },
    {
      "cell_type": "markdown",
      "source": [
        "# **Functions** 🧮"
      ],
      "metadata": {
        "id": "cG8chNGOA5LR"
      }
    },
    {
      "cell_type": "code",
      "source": [
        "def train_one_epoch(model, train_loader, loss_fn, optimizer, epoch=None):\n",
        "  model.train()\n",
        "  loss_train = AverageMeter()\n",
        "  acc_train = Accuracy(task=\"multiclass\", num_classes=7).to(device)\n",
        "\n",
        "  with tqdm(train_loader, unit='batch') as tepoch:\n",
        "    for inputs, targets in tepoch:\n",
        "      if epoch is not None:\n",
        "        tepoch.set_description(f'Epoch {epoch}')\n",
        "      inputs = inputs.to(device)\n",
        "      targets = targets.to(device)\n",
        "\n",
        "      outputs = model(inputs)\n",
        "      loss = loss_fn(outputs.squeeze(), targets)\n",
        "\n",
        "      loss.backward()\n",
        "      optimizer.step()\n",
        "      optimizer.zero_grad()\n",
        "\n",
        "      loss_train.update(loss.item())\n",
        "      acc_train(outputs, targets.int())\n",
        "\n",
        "      tepoch.set_postfix(loss=f'{loss_train.avg:.4f}',accuracy=f'{100.*acc_train.compute().item():.4f}')\n",
        "  return model, loss_train.avg, acc_train.compute()\n",
        "\n",
        "model, _, _ = train_one_epoch(model, train_loader, loss_fn, optimizer)"
      ],
      "metadata": {
        "id": "t0-nTLwsA6d6",
        "colab": {
          "base_uri": "https://localhost:8080/"
        },
        "outputId": "af51450d-e48b-4ca8-9ea8-800065e7c1d1"
      },
      "execution_count": null,
      "outputs": [
        {
          "output_type": "stream",
          "name": "stderr",
          "text": [
            "100%|██████████| 476/476 [00:06<00:00, 77.49batch/s, accuracy=94.3941, loss=0.2346]\n"
          ]
        }
      ]
    },
    {
      "cell_type": "code",
      "source": [
        "def evaluate(model, valid_loader, loss_fn):\n",
        "  model.eval()\n",
        "  with torch.no_grad():\n",
        "    loss_valid = AverageMeter()\n",
        "    acc_valid = Accuracy(task=\"multiclass\", num_classes=7).to(device)\n",
        "    for i, (inputs, targets) in enumerate(valid_loader):\n",
        "      inputs = inputs.to(device)\n",
        "      targets = targets.to(device)\n",
        "\n",
        "      outputs = model(inputs)\n",
        "      loss = loss_fn(outputs.squeeze(), targets)\n",
        "\n",
        "      loss_valid.update(loss.item())\n",
        "      acc_valid(outputs, targets.int())\n",
        "\n",
        "  return loss_valid.avg, acc_valid.compute()\n",
        "\n",
        "evaluate(model, valid_loader, loss_fn)"
      ],
      "metadata": {
        "id": "PfojrmeYBHD5",
        "colab": {
          "base_uri": "https://localhost:8080/"
        },
        "outputId": "8d70dfd8-9615-48c4-f98a-4246f02d4558"
      },
      "execution_count": null,
      "outputs": [
        {
          "output_type": "execute_result",
          "data": {
            "text/plain": [
              "(0.07205757027601495, tensor(0.9852, device='cuda:0'))"
            ]
          },
          "metadata": {},
          "execution_count": 17
        }
      ]
    },
    {
      "cell_type": "markdown",
      "source": [
        "# **Efficient way to set hyperparams 🔨**"
      ],
      "metadata": {
        "id": "9csGqnCvtFAS"
      }
    },
    {
      "cell_type": "code",
      "source": [
        "model = mlp_model()\n",
        "model = model.to(device)\n",
        "\n",
        "optimizer = optim.SGD(model.parameters(), lr=0.01, weight_decay=1e-4)"
      ],
      "metadata": {
        "id": "Y5I4Hd9vpszf"
      },
      "execution_count": null,
      "outputs": []
    },
    {
      "cell_type": "markdown",
      "source": [
        "## Step 1: check forward path\n",
        "\n",
        "Calculate loss for one batch"
      ],
      "metadata": {
        "id": "lpJ3wtyctQJH"
      }
    },
    {
      "cell_type": "code",
      "source": [
        "x_batch, y_batch = next(iter(train_loader))\n",
        "\n",
        "x_batch = x_batch.to(device)\n",
        "y_batch = y_batch.to(device)\n",
        "\n",
        "outputs = model(x_batch)\n",
        "\n",
        "loss_fn(outputs, y_batch)"
      ],
      "metadata": {
        "id": "IpUgLpfWtMZP",
        "colab": {
          "base_uri": "https://localhost:8080/"
        },
        "outputId": "f5a1b361-d765-4cc7-bf81-0fcfd5c1df52"
      },
      "execution_count": null,
      "outputs": [
        {
          "output_type": "execute_result",
          "data": {
            "text/plain": [
              "tensor(2.0352, device='cuda:0', grad_fn=<NllLossBackward0>)"
            ]
          },
          "metadata": {},
          "execution_count": 19
        }
      ]
    },
    {
      "cell_type": "markdown",
      "source": [
        "## Step 2: check backward path\n",
        "\n",
        "Select 5 random batches and overfit the model"
      ],
      "metadata": {
        "id": "BrHQCv7q7LF_"
      }
    },
    {
      "cell_type": "code",
      "source": [
        "mini_train_dataset, _ = random_split(train_data, (1000, (len(train_data)-1000)))\n",
        "mini_loader = DataLoader(mini_train_dataset, batch_size=200, shuffle=True)"
      ],
      "metadata": {
        "id": "Jxz5DXoj61mg"
      },
      "execution_count": null,
      "outputs": []
    },
    {
      "cell_type": "code",
      "source": [
        "for epoch in range(10):\n",
        "  model, _, _ = train_one_epoch(model, mini_loader, loss_fn, optimizer, epoch)"
      ],
      "metadata": {
        "id": "PK-P20hI3snf",
        "colab": {
          "base_uri": "https://localhost:8080/"
        },
        "outputId": "9aa9c816-2cda-442e-a23d-87366caa9f4b"
      },
      "execution_count": null,
      "outputs": [
        {
          "output_type": "stream",
          "name": "stderr",
          "text": [
            "Epoch 0: 100%|██████████| 5/5 [00:00<00:00, 115.64batch/s, accuracy=6.1000, loss=2.0277]\n",
            "Epoch 1: 100%|██████████| 5/5 [00:00<00:00, 122.76batch/s, accuracy=7.7000, loss=1.9875]\n",
            "Epoch 2: 100%|██████████| 5/5 [00:00<00:00, 117.46batch/s, accuracy=9.1000, loss=1.9481]\n",
            "Epoch 3: 100%|██████████| 5/5 [00:00<00:00, 108.75batch/s, accuracy=10.6000, loss=1.9092]\n",
            "Epoch 4: 100%|██████████| 5/5 [00:00<00:00, 115.59batch/s, accuracy=42.2000, loss=1.8703]\n",
            "Epoch 5: 100%|██████████| 5/5 [00:00<00:00, 116.63batch/s, accuracy=79.9000, loss=1.8312]\n",
            "Epoch 6: 100%|██████████| 5/5 [00:00<00:00, 115.29batch/s, accuracy=80.1000, loss=1.7915]\n",
            "Epoch 7: 100%|██████████| 5/5 [00:00<00:00, 108.42batch/s, accuracy=77.6000, loss=1.7513]\n",
            "Epoch 8: 100%|██████████| 5/5 [00:00<00:00, 109.00batch/s, accuracy=77.1000, loss=1.7103]\n",
            "Epoch 9: 100%|██████████| 5/5 [00:00<00:00, 111.92batch/s, accuracy=77.1000, loss=1.6682]\n"
          ]
        }
      ]
    },
    {
      "cell_type": "markdown",
      "source": [
        "## Step 3: select best lr\n",
        "\n",
        "Train all data for one epoch"
      ],
      "metadata": {
        "id": "BLT4w0ZfAhlJ"
      }
    },
    {
      "cell_type": "code",
      "source": [
        "for lr in [0.1, 0.01, 0.001, 0.0001]:\n",
        "\n",
        "  print(f'lr={lr}')\n",
        "\n",
        "  model = mlp_model()\n",
        "  model = model.to(device)\n",
        "\n",
        "  optimizer = optim.SGD(model.parameters(), lr=lr, weight_decay=1e-4)\n",
        "\n",
        "  model, _, _ = train_one_epoch(model, train_loader, loss_fn, optimizer)\n",
        "\n",
        "  print()"
      ],
      "metadata": {
        "id": "c7tlXlY4_Dwi",
        "colab": {
          "base_uri": "https://localhost:8080/"
        },
        "outputId": "e86a8eb3-8fd0-4718-af25-843650be135d"
      },
      "execution_count": null,
      "outputs": [
        {
          "output_type": "stream",
          "name": "stdout",
          "text": [
            "lr=0.1\n"
          ]
        },
        {
          "output_type": "stream",
          "name": "stderr",
          "text": [
            "100%|██████████| 476/476 [00:02<00:00, 160.75batch/s, accuracy=95.4450, loss=0.1913]\n"
          ]
        },
        {
          "output_type": "stream",
          "name": "stdout",
          "text": [
            "\n",
            "lr=0.01\n"
          ]
        },
        {
          "output_type": "stream",
          "name": "stderr",
          "text": [
            "100%|██████████| 476/476 [00:02<00:00, 161.52batch/s, accuracy=78.0985, loss=0.7465]\n"
          ]
        },
        {
          "output_type": "stream",
          "name": "stdout",
          "text": [
            "\n",
            "lr=0.001\n"
          ]
        },
        {
          "output_type": "stream",
          "name": "stderr",
          "text": [
            "100%|██████████| 476/476 [00:04<00:00, 96.45batch/s, accuracy=66.4368, loss=1.7405]\n"
          ]
        },
        {
          "output_type": "stream",
          "name": "stdout",
          "text": [
            "\n",
            "lr=0.0001\n"
          ]
        },
        {
          "output_type": "stream",
          "name": "stderr",
          "text": [
            "100%|██████████| 476/476 [00:03<00:00, 144.56batch/s, accuracy=2.8637, loss=1.8871]"
          ]
        },
        {
          "output_type": "stream",
          "name": "stdout",
          "text": [
            "\n"
          ]
        },
        {
          "output_type": "stream",
          "name": "stderr",
          "text": [
            "\n"
          ]
        }
      ]
    },
    {
      "cell_type": "markdown",
      "source": [
        "## Step 4: small grid (optional)\n",
        "\n",
        "Create a small grid based on the WD and the best LR\n",
        "\n"
      ],
      "metadata": {
        "id": "uC2GhaXfA8vC"
      }
    },
    {
      "cell_type": "code",
      "source": [
        "from prettytable import PrettyTable\n",
        "\n",
        "my_table = PrettyTable([\"Learning Rate\", \"Weight decay\", \"accuracy\", \"loss\"])\n",
        "\n",
        "\n",
        "for lr in [0.1, 0.15, 0.20, 0.25]:\n",
        "  for wd in [0., 1e-4, 1e-5, 1e-6]:\n",
        "\n",
        "    model = mlp_model()\n",
        "    model = model.to(device)\n",
        "\n",
        "    optimizer = optim.SGD(model.parameters(), lr=lr, weight_decay=wd)\n",
        "\n",
        "    print(f'LR={lr}, WD={wd}')\n",
        "    for epoch in range(5):\n",
        "      model, loss, accuracy = train_one_epoch(model, train_loader, loss_fn, optimizer, epoch)\n",
        "\n",
        "      if epoch == 4:\n",
        "        my_table.add_row([lr, wd, f'{100.*accuracy:.4f}', f'{loss:.4f}'])\n",
        "\n",
        "    print()\n",
        "\n",
        "  my_table.add_row([20*'-', 20*'-', 20*'-', 20*'-'])\n",
        "\n",
        "print(my_table)"
      ],
      "metadata": {
        "id": "yIta-JKgA7-I",
        "colab": {
          "base_uri": "https://localhost:8080/"
        },
        "outputId": "5390ab86-f058-49db-fe6a-037aaab21190"
      },
      "execution_count": null,
      "outputs": [
        {
          "output_type": "stream",
          "name": "stdout",
          "text": [
            "LR=0.1, WD=0.0\n"
          ]
        },
        {
          "output_type": "stream",
          "name": "stderr",
          "text": [
            "Epoch 0: 100%|██████████| 476/476 [00:03<00:00, 134.20batch/s, accuracy=95.3892, loss=0.1960]\n",
            "Epoch 1: 100%|██████████| 476/476 [00:03<00:00, 134.44batch/s, accuracy=99.1593, loss=0.0690]\n",
            "Epoch 2: 100%|██████████| 476/476 [00:04<00:00, 109.90batch/s, accuracy=99.3366, loss=0.0500]\n",
            "Epoch 3: 100%|██████████| 476/476 [00:03<00:00, 123.04batch/s, accuracy=99.3662, loss=0.0431]\n",
            "Epoch 4: 100%|██████████| 476/476 [00:03<00:00, 134.54batch/s, accuracy=99.4384, loss=0.0367]\n"
          ]
        },
        {
          "output_type": "stream",
          "name": "stdout",
          "text": [
            "\n",
            "LR=0.1, WD=0.0001\n"
          ]
        },
        {
          "output_type": "stream",
          "name": "stderr",
          "text": [
            "Epoch 0: 100%|██████████| 476/476 [00:04<00:00, 118.00batch/s, accuracy=95.5567, loss=0.1908]\n",
            "Epoch 1: 100%|██████████| 476/476 [00:03<00:00, 123.70batch/s, accuracy=99.1888, loss=0.0639]\n",
            "Epoch 2: 100%|██████████| 476/476 [00:04<00:00, 117.97batch/s, accuracy=99.4187, loss=0.0496]\n",
            "Epoch 3: 100%|██████████| 476/476 [00:03<00:00, 134.64batch/s, accuracy=99.4745, loss=0.0366]\n",
            "Epoch 4: 100%|██████████| 476/476 [00:03<00:00, 130.92batch/s, accuracy=99.5041, loss=0.0315]\n"
          ]
        },
        {
          "output_type": "stream",
          "name": "stdout",
          "text": [
            "\n",
            "LR=0.1, WD=1e-05\n"
          ]
        },
        {
          "output_type": "stream",
          "name": "stderr",
          "text": [
            "Epoch 0: 100%|██████████| 476/476 [00:06<00:00, 68.44batch/s, accuracy=95.7274, loss=0.1851]\n",
            "Epoch 1: 100%|██████████| 476/476 [00:04<00:00, 112.49batch/s, accuracy=99.1429, loss=0.0684]\n",
            "Epoch 2: 100%|██████████| 476/476 [00:03<00:00, 134.38batch/s, accuracy=99.3629, loss=0.0479]\n",
            "Epoch 3: 100%|██████████| 476/476 [00:03<00:00, 121.04batch/s, accuracy=99.3892, loss=0.0411]\n",
            "Epoch 4: 100%|██████████| 476/476 [00:03<00:00, 119.40batch/s, accuracy=99.4417, loss=0.0339]\n"
          ]
        },
        {
          "output_type": "stream",
          "name": "stdout",
          "text": [
            "\n",
            "LR=0.1, WD=1e-06\n"
          ]
        },
        {
          "output_type": "stream",
          "name": "stderr",
          "text": [
            "Epoch 0: 100%|██████████| 476/476 [00:03<00:00, 133.93batch/s, accuracy=95.6814, loss=0.1971]\n",
            "Epoch 1: 100%|██████████| 476/476 [00:03<00:00, 133.88batch/s, accuracy=99.2808, loss=0.0585]\n",
            "Epoch 2: 100%|██████████| 476/476 [00:03<00:00, 129.01batch/s, accuracy=99.3563, loss=0.0503]\n",
            "Epoch 3: 100%|██████████| 476/476 [00:03<00:00, 120.70batch/s, accuracy=99.4089, loss=0.0405]\n",
            "Epoch 4: 100%|██████████| 476/476 [00:04<00:00, 95.65batch/s, accuracy=99.4483, loss=0.0348]\n"
          ]
        },
        {
          "output_type": "stream",
          "name": "stdout",
          "text": [
            "\n",
            "LR=0.15, WD=0.0\n"
          ]
        },
        {
          "output_type": "stream",
          "name": "stderr",
          "text": [
            "Epoch 0: 100%|██████████| 476/476 [00:06<00:00, 69.63batch/s, accuracy=96.5090, loss=0.1594]\n",
            "Epoch 1: 100%|██████████| 476/476 [00:08<00:00, 59.11batch/s, accuracy=99.3727, loss=0.0512]\n",
            "Epoch 2: 100%|██████████| 476/476 [00:03<00:00, 132.10batch/s, accuracy=99.4384, loss=0.0368]\n",
            "Epoch 3: 100%|██████████| 476/476 [00:03<00:00, 128.30batch/s, accuracy=99.4745, loss=0.0319]\n",
            "Epoch 4: 100%|██████████| 476/476 [00:04<00:00, 95.64batch/s, accuracy=99.5271, loss=0.0242]\n"
          ]
        },
        {
          "output_type": "stream",
          "name": "stdout",
          "text": [
            "\n",
            "LR=0.15, WD=0.0001\n"
          ]
        },
        {
          "output_type": "stream",
          "name": "stderr",
          "text": [
            "Epoch 0: 100%|██████████| 476/476 [00:05<00:00, 93.70batch/s, accuracy=96.2233, loss=0.1684] \n",
            "Epoch 1: 100%|██████████| 476/476 [00:04<00:00, 111.88batch/s, accuracy=99.1856, loss=0.0588]\n",
            "Epoch 2: 100%|██████████| 476/476 [00:05<00:00, 80.86batch/s, accuracy=99.3530, loss=0.0409] \n",
            "Epoch 3: 100%|██████████| 476/476 [00:03<00:00, 125.18batch/s, accuracy=99.3760, loss=0.0320]\n",
            "Epoch 4: 100%|██████████| 476/476 [00:03<00:00, 122.49batch/s, accuracy=99.4089, loss=0.0282]\n"
          ]
        },
        {
          "output_type": "stream",
          "name": "stdout",
          "text": [
            "\n",
            "LR=0.15, WD=1e-05\n"
          ]
        },
        {
          "output_type": "stream",
          "name": "stderr",
          "text": [
            "Epoch 0: 100%|██████████| 476/476 [00:03<00:00, 127.03batch/s, accuracy=96.4401, loss=0.1585]\n",
            "Epoch 1: 100%|██████████| 476/476 [00:04<00:00, 118.33batch/s, accuracy=99.2808, loss=0.0637]\n",
            "Epoch 2: 100%|██████████| 476/476 [00:03<00:00, 130.56batch/s, accuracy=99.4154, loss=0.0442]\n",
            "Epoch 3: 100%|██████████| 476/476 [00:03<00:00, 132.39batch/s, accuracy=99.4647, loss=0.0354]\n",
            "Epoch 4: 100%|██████████| 476/476 [00:03<00:00, 129.61batch/s, accuracy=99.5205, loss=0.0281]\n"
          ]
        },
        {
          "output_type": "stream",
          "name": "stdout",
          "text": [
            "\n",
            "LR=0.15, WD=1e-06\n"
          ]
        },
        {
          "output_type": "stream",
          "name": "stderr",
          "text": [
            "Epoch 0: 100%|██████████| 476/476 [00:03<00:00, 127.09batch/s, accuracy=96.2200, loss=0.1722]\n",
            "Epoch 1: 100%|██████████| 476/476 [00:03<00:00, 121.43batch/s, accuracy=99.2611, loss=0.0559]\n",
            "Epoch 2: 100%|██████████| 476/476 [00:03<00:00, 127.14batch/s, accuracy=99.3924, loss=0.0449]\n",
            "Epoch 3: 100%|██████████| 476/476 [00:03<00:00, 133.56batch/s, accuracy=99.4286, loss=0.0344]\n",
            "Epoch 4: 100%|██████████| 476/476 [00:04<00:00, 109.03batch/s, accuracy=99.4614, loss=0.0282]\n"
          ]
        },
        {
          "output_type": "stream",
          "name": "stdout",
          "text": [
            "\n",
            "LR=0.2, WD=0.0\n"
          ]
        },
        {
          "output_type": "stream",
          "name": "stderr",
          "text": [
            "Epoch 0: 100%|██████████| 476/476 [00:04<00:00, 97.27batch/s, accuracy=96.8276, loss=0.1601] \n",
            "Epoch 1: 100%|██████████| 476/476 [00:04<00:00, 105.27batch/s, accuracy=99.2282, loss=0.0536]\n",
            "Epoch 2: 100%|██████████| 476/476 [00:03<00:00, 119.99batch/s, accuracy=99.3793, loss=0.0359]\n",
            "Epoch 3: 100%|██████████| 476/476 [00:05<00:00, 85.30batch/s, accuracy=99.4975, loss=0.0291] \n",
            "Epoch 4: 100%|██████████| 476/476 [00:04<00:00, 97.06batch/s, accuracy=99.5041, loss=0.0264]\n"
          ]
        },
        {
          "output_type": "stream",
          "name": "stdout",
          "text": [
            "\n",
            "LR=0.2, WD=0.0001\n"
          ]
        },
        {
          "output_type": "stream",
          "name": "stderr",
          "text": [
            "Epoch 0: 100%|██████████| 476/476 [00:04<00:00, 108.95batch/s, accuracy=97.1888, loss=0.1329]\n",
            "Epoch 1: 100%|██████████| 476/476 [00:03<00:00, 119.25batch/s, accuracy=99.2151, loss=0.0533]\n",
            "Epoch 2: 100%|██████████| 476/476 [00:03<00:00, 120.57batch/s, accuracy=99.3071, loss=0.0361]\n",
            "Epoch 3: 100%|██████████| 476/476 [00:03<00:00, 132.75batch/s, accuracy=99.4417, loss=0.0340]\n",
            "Epoch 4: 100%|██████████| 476/476 [00:03<00:00, 131.67batch/s, accuracy=99.4910, loss=0.0245]\n"
          ]
        },
        {
          "output_type": "stream",
          "name": "stdout",
          "text": [
            "\n",
            "LR=0.2, WD=1e-05\n"
          ]
        },
        {
          "output_type": "stream",
          "name": "stderr",
          "text": [
            "Epoch 0: 100%|██████████| 476/476 [00:04<00:00, 117.15batch/s, accuracy=96.5846, loss=0.1541]\n",
            "Epoch 1: 100%|██████████| 476/476 [00:04<00:00, 116.16batch/s, accuracy=99.2611, loss=0.0565]\n",
            "Epoch 2: 100%|██████████| 476/476 [00:03<00:00, 119.31batch/s, accuracy=99.3662, loss=0.0373]\n",
            "Epoch 3: 100%|██████████| 476/476 [00:04<00:00, 116.63batch/s, accuracy=99.5172, loss=0.0281]\n",
            "Epoch 4: 100%|██████████| 476/476 [00:04<00:00, 116.64batch/s, accuracy=99.5534, loss=0.0213]\n"
          ]
        },
        {
          "output_type": "stream",
          "name": "stdout",
          "text": [
            "\n",
            "LR=0.2, WD=1e-06\n"
          ]
        },
        {
          "output_type": "stream",
          "name": "stderr",
          "text": [
            "Epoch 0: 100%|██████████| 476/476 [00:03<00:00, 120.53batch/s, accuracy=96.9163, loss=0.1364]\n",
            "Epoch 1: 100%|██████████| 476/476 [00:03<00:00, 134.52batch/s, accuracy=99.2480, loss=0.0581]\n",
            "Epoch 2: 100%|██████████| 476/476 [00:04<00:00, 111.47batch/s, accuracy=99.3629, loss=0.0385]\n",
            "Epoch 3: 100%|██████████| 476/476 [00:04<00:00, 105.20batch/s, accuracy=99.4351, loss=0.0303]\n",
            "Epoch 4: 100%|██████████| 476/476 [00:03<00:00, 122.61batch/s, accuracy=99.5534, loss=0.0241]\n"
          ]
        },
        {
          "output_type": "stream",
          "name": "stdout",
          "text": [
            "\n",
            "LR=0.25, WD=0.0\n"
          ]
        },
        {
          "output_type": "stream",
          "name": "stderr",
          "text": [
            "Epoch 0: 100%|██████████| 476/476 [00:03<00:00, 132.56batch/s, accuracy=97.4023, loss=0.1339]\n",
            "Epoch 1: 100%|██████████| 476/476 [00:03<00:00, 132.97batch/s, accuracy=99.2053, loss=0.0438]\n",
            "Epoch 2: 100%|██████████| 476/476 [00:04<00:00, 115.14batch/s, accuracy=99.3498, loss=0.0330]\n",
            "Epoch 3: 100%|██████████| 476/476 [00:03<00:00, 120.09batch/s, accuracy=99.4089, loss=0.0272]\n",
            "Epoch 4: 100%|██████████| 476/476 [00:03<00:00, 132.63batch/s, accuracy=99.5501, loss=0.0213]\n"
          ]
        },
        {
          "output_type": "stream",
          "name": "stdout",
          "text": [
            "\n",
            "LR=0.25, WD=0.0001\n"
          ]
        },
        {
          "output_type": "stream",
          "name": "stderr",
          "text": [
            "Epoch 0: 100%|██████████| 476/476 [00:03<00:00, 131.18batch/s, accuracy=97.4351, loss=0.1310]\n",
            "Epoch 1: 100%|██████████| 476/476 [00:03<00:00, 121.08batch/s, accuracy=99.3169, loss=0.0464]\n",
            "Epoch 2: 100%|██████████| 476/476 [00:04<00:00, 111.66batch/s, accuracy=99.4286, loss=0.0297]\n",
            "Epoch 3: 100%|██████████| 476/476 [00:04<00:00, 116.97batch/s, accuracy=99.5238, loss=0.0243]\n",
            "Epoch 4: 100%|██████████| 476/476 [00:03<00:00, 129.61batch/s, accuracy=99.6223, loss=0.0200]\n"
          ]
        },
        {
          "output_type": "stream",
          "name": "stdout",
          "text": [
            "\n",
            "LR=0.25, WD=1e-05\n"
          ]
        },
        {
          "output_type": "stream",
          "name": "stderr",
          "text": [
            "Epoch 0: 100%|██████████| 476/476 [00:04<00:00, 116.76batch/s, accuracy=97.3662, loss=0.1333]\n",
            "Epoch 1: 100%|██████████| 476/476 [00:04<00:00, 117.66batch/s, accuracy=99.3268, loss=0.0446]\n",
            "Epoch 2: 100%|██████████| 476/476 [00:03<00:00, 119.08batch/s, accuracy=99.4023, loss=0.0326]\n",
            "Epoch 3: 100%|██████████| 476/476 [00:03<00:00, 130.37batch/s, accuracy=99.4910, loss=0.0241]\n",
            "Epoch 4: 100%|██████████| 476/476 [00:03<00:00, 120.53batch/s, accuracy=99.5566, loss=0.0233]\n"
          ]
        },
        {
          "output_type": "stream",
          "name": "stdout",
          "text": [
            "\n",
            "LR=0.25, WD=1e-06\n"
          ]
        },
        {
          "output_type": "stream",
          "name": "stderr",
          "text": [
            "Epoch 0: 100%|██████████| 476/476 [00:04<00:00, 115.20batch/s, accuracy=96.9360, loss=0.1289]\n",
            "Epoch 1: 100%|██████████| 476/476 [00:03<00:00, 131.20batch/s, accuracy=99.2644, loss=0.0543]\n",
            "Epoch 2: 100%|██████████| 476/476 [00:03<00:00, 132.15batch/s, accuracy=99.4516, loss=0.0303]\n",
            "Epoch 3: 100%|██████████| 476/476 [00:03<00:00, 125.82batch/s, accuracy=99.5008, loss=0.0246]\n",
            "Epoch 4: 100%|██████████| 476/476 [00:04<00:00, 117.10batch/s, accuracy=99.5895, loss=0.0211]\n"
          ]
        },
        {
          "output_type": "stream",
          "name": "stdout",
          "text": [
            "\n",
            "+----------------------+----------------------+----------------------+----------------------+\n",
            "|    Learning Rate     |     Weight decay     |       accuracy       |         loss         |\n",
            "+----------------------+----------------------+----------------------+----------------------+\n",
            "|         0.1          |         0.0          |       99.4384        |        0.0367        |\n",
            "|         0.1          |        0.0001        |       99.5041        |        0.0315        |\n",
            "|         0.1          |        1e-05         |       99.4417        |        0.0339        |\n",
            "|         0.1          |        1e-06         |       99.4483        |        0.0348        |\n",
            "| -------------------- | -------------------- | -------------------- | -------------------- |\n",
            "|         0.15         |         0.0          |       99.5271        |        0.0242        |\n",
            "|         0.15         |        0.0001        |       99.4089        |        0.0282        |\n",
            "|         0.15         |        1e-05         |       99.5205        |        0.0281        |\n",
            "|         0.15         |        1e-06         |       99.4614        |        0.0282        |\n",
            "| -------------------- | -------------------- | -------------------- | -------------------- |\n",
            "|         0.2          |         0.0          |       99.5041        |        0.0264        |\n",
            "|         0.2          |        0.0001        |       99.4910        |        0.0245        |\n",
            "|         0.2          |        1e-05         |       99.5534        |        0.0213        |\n",
            "|         0.2          |        1e-06         |       99.5534        |        0.0241        |\n",
            "| -------------------- | -------------------- | -------------------- | -------------------- |\n",
            "|         0.25         |         0.0          |       99.5501        |        0.0213        |\n",
            "|         0.25         |        0.0001        |       99.6223        |        0.0200        |\n",
            "|         0.25         |        1e-05         |       99.5566        |        0.0233        |\n",
            "|         0.25         |        1e-06         |       99.5895        |        0.0211        |\n",
            "| -------------------- | -------------------- | -------------------- | -------------------- |\n",
            "+----------------------+----------------------+----------------------+----------------------+\n"
          ]
        }
      ]
    },
    {
      "cell_type": "markdown",
      "source": [
        "## Step 5: train more epochs"
      ],
      "metadata": {
        "id": "oBW2SLfEEkCp"
      }
    },
    {
      "cell_type": "code",
      "source": [
        "loss_train_hist = []\n",
        "loss_valid_hist = []\n",
        "\n",
        "acc_train_hist = []\n",
        "acc_valid_hist = []\n",
        "\n",
        "best_valid_loss = torch.inf\n",
        "total_epochs = 0"
      ],
      "metadata": {
        "id": "e2kFhyOjxY_P"
      },
      "execution_count": null,
      "outputs": []
    },
    {
      "cell_type": "code",
      "source": [
        "model = mlp_model()\n",
        "model = model.to(device)\n",
        "\n",
        "optimizer = optim.SGD(model.parameters(), lr=0.25, weight_decay=1e-04)"
      ],
      "metadata": {
        "id": "n97G6tIVnZKK"
      },
      "execution_count": null,
      "outputs": []
    },
    {
      "cell_type": "code",
      "source": [
        "num_epochs = 30\n",
        "\n",
        "\n",
        "for epoch in range(num_epochs):\n",
        "  # Train\n",
        "  model, loss_train, acc_train = train_one_epoch(model, train_loader, loss_fn, optimizer, epoch)\n",
        "\n",
        "  # Validation\n",
        "  loss_valid, acc_valid = evaluate(model, valid_loader, loss_fn)\n",
        "\n",
        "  if loss_valid < best_valid_loss:\n",
        "    torch.save(model.state_dict(), '/content/best-model.pt')\n",
        "    best_valid_loss = loss_valid\n",
        "\n",
        "  loss_train_hist.append(loss_train)\n",
        "  loss_valid_hist.append(loss_valid)\n",
        "\n",
        "  acc_train_hist.append(acc_train.cpu())\n",
        "  acc_valid_hist.append(acc_valid.cpu())\n",
        "\n",
        "  print(f'Valid: Loss = {loss_valid:.4}, Accuracy = {100.*acc_valid:.4f}\\n')\n",
        "  total_epochs += 1"
      ],
      "metadata": {
        "id": "vwIDemRWECNm",
        "colab": {
          "base_uri": "https://localhost:8080/"
        },
        "outputId": "91e92142-9e25-4ee9-ab01-990ff2ac9ac4"
      },
      "execution_count": null,
      "outputs": [
        {
          "output_type": "stream",
          "name": "stderr",
          "text": [
            "Epoch 0: 100%|██████████| 476/476 [00:03<00:00, 129.06batch/s, accuracy=97.0739, loss=0.1403]\n"
          ]
        },
        {
          "output_type": "stream",
          "name": "stdout",
          "text": [
            "Valid: Loss = 0.07473, Accuracy = 98.8199\n",
            "\n"
          ]
        },
        {
          "output_type": "stream",
          "name": "stderr",
          "text": [
            "Epoch 1: 100%|██████████| 476/476 [00:03<00:00, 130.64batch/s, accuracy=99.2315, loss=0.0493]\n"
          ]
        },
        {
          "output_type": "stream",
          "name": "stdout",
          "text": [
            "Valid: Loss = 0.03035, Accuracy = 99.5326\n",
            "\n"
          ]
        },
        {
          "output_type": "stream",
          "name": "stderr",
          "text": [
            "Epoch 2: 100%|██████████| 476/476 [00:03<00:00, 120.45batch/s, accuracy=99.3695, loss=0.0331]\n"
          ]
        },
        {
          "output_type": "stream",
          "name": "stdout",
          "text": [
            "Valid: Loss = 0.02477, Accuracy = 99.4943\n",
            "\n"
          ]
        },
        {
          "output_type": "stream",
          "name": "stderr",
          "text": [
            "Epoch 3: 100%|██████████| 476/476 [00:03<00:00, 122.00batch/s, accuracy=99.4384, loss=0.0256]\n"
          ]
        },
        {
          "output_type": "stream",
          "name": "stdout",
          "text": [
            "Valid: Loss = 0.03158, Accuracy = 99.0651\n",
            "\n"
          ]
        },
        {
          "output_type": "stream",
          "name": "stderr",
          "text": [
            "Epoch 4: 100%|██████████| 476/476 [00:03<00:00, 134.54batch/s, accuracy=99.5041, loss=0.0235]\n"
          ]
        },
        {
          "output_type": "stream",
          "name": "stdout",
          "text": [
            "Valid: Loss = 0.02127, Accuracy = 99.6552\n",
            "\n"
          ]
        },
        {
          "output_type": "stream",
          "name": "stderr",
          "text": [
            "Epoch 5: 100%|██████████| 476/476 [00:03<00:00, 132.57batch/s, accuracy=99.5796, loss=0.0192]\n"
          ]
        },
        {
          "output_type": "stream",
          "name": "stdout",
          "text": [
            "Valid: Loss = 0.02186, Accuracy = 99.6398\n",
            "\n"
          ]
        },
        {
          "output_type": "stream",
          "name": "stderr",
          "text": [
            "Epoch 6: 100%|██████████| 476/476 [00:06<00:00, 75.24batch/s, accuracy=99.5961, loss=0.0174]\n"
          ]
        },
        {
          "output_type": "stream",
          "name": "stdout",
          "text": [
            "Valid: Loss = 0.01454, Accuracy = 99.7088\n",
            "\n"
          ]
        },
        {
          "output_type": "stream",
          "name": "stderr",
          "text": [
            "Epoch 7: 100%|██████████| 476/476 [00:03<00:00, 131.25batch/s, accuracy=99.6683, loss=0.0141]\n"
          ]
        },
        {
          "output_type": "stream",
          "name": "stdout",
          "text": [
            "Valid: Loss = 0.01564, Accuracy = 99.6858\n",
            "\n"
          ]
        },
        {
          "output_type": "stream",
          "name": "stderr",
          "text": [
            "Epoch 8: 100%|██████████| 476/476 [00:03<00:00, 133.65batch/s, accuracy=99.6946, loss=0.0125]\n"
          ]
        },
        {
          "output_type": "stream",
          "name": "stdout",
          "text": [
            "Valid: Loss = 0.01097, Accuracy = 99.7471\n",
            "\n"
          ]
        },
        {
          "output_type": "stream",
          "name": "stderr",
          "text": [
            "Epoch 9: 100%|██████████| 476/476 [00:04<00:00, 114.11batch/s, accuracy=99.7406, loss=0.0117]\n"
          ]
        },
        {
          "output_type": "stream",
          "name": "stdout",
          "text": [
            "Valid: Loss = 0.01042, Accuracy = 99.7471\n",
            "\n"
          ]
        },
        {
          "output_type": "stream",
          "name": "stderr",
          "text": [
            "Epoch 10: 100%|██████████| 476/476 [00:04<00:00, 108.22batch/s, accuracy=99.7438, loss=0.0110]\n"
          ]
        },
        {
          "output_type": "stream",
          "name": "stdout",
          "text": [
            "Valid: Loss = 0.01069, Accuracy = 99.7701\n",
            "\n"
          ]
        },
        {
          "output_type": "stream",
          "name": "stderr",
          "text": [
            "Epoch 11: 100%|██████████| 476/476 [00:04<00:00, 115.75batch/s, accuracy=99.7438, loss=0.0091]\n"
          ]
        },
        {
          "output_type": "stream",
          "name": "stdout",
          "text": [
            "Valid: Loss = 0.008962, Accuracy = 99.7854\n",
            "\n"
          ]
        },
        {
          "output_type": "stream",
          "name": "stderr",
          "text": [
            "Epoch 12: 100%|██████████| 476/476 [00:03<00:00, 125.92batch/s, accuracy=99.7734, loss=0.0106]\n"
          ]
        },
        {
          "output_type": "stream",
          "name": "stdout",
          "text": [
            "Valid: Loss = 0.01286, Accuracy = 99.7395\n",
            "\n"
          ]
        },
        {
          "output_type": "stream",
          "name": "stderr",
          "text": [
            "Epoch 13: 100%|██████████| 476/476 [00:04<00:00, 116.96batch/s, accuracy=99.7767, loss=0.0100]\n"
          ]
        },
        {
          "output_type": "stream",
          "name": "stdout",
          "text": [
            "Valid: Loss = 0.007814, Accuracy = 99.7854\n",
            "\n"
          ]
        },
        {
          "output_type": "stream",
          "name": "stderr",
          "text": [
            "Epoch 14: 100%|██████████| 476/476 [00:03<00:00, 119.34batch/s, accuracy=99.7997, loss=0.0098]\n"
          ]
        },
        {
          "output_type": "stream",
          "name": "stdout",
          "text": [
            "Valid: Loss = 0.00707, Accuracy = 99.7778\n",
            "\n"
          ]
        },
        {
          "output_type": "stream",
          "name": "stderr",
          "text": [
            "Epoch 15: 100%|██████████| 476/476 [00:03<00:00, 126.65batch/s, accuracy=99.7898, loss=0.0081]\n"
          ]
        },
        {
          "output_type": "stream",
          "name": "stdout",
          "text": [
            "Valid: Loss = 0.009157, Accuracy = 99.8084\n",
            "\n"
          ]
        },
        {
          "output_type": "stream",
          "name": "stderr",
          "text": [
            "Epoch 16: 100%|██████████| 476/476 [00:03<00:00, 123.73batch/s, accuracy=99.8325, loss=0.0080]\n"
          ]
        },
        {
          "output_type": "stream",
          "name": "stdout",
          "text": [
            "Valid: Loss = 0.02782, Accuracy = 99.5249\n",
            "\n"
          ]
        },
        {
          "output_type": "stream",
          "name": "stderr",
          "text": [
            "Epoch 17: 100%|██████████| 476/476 [00:03<00:00, 124.21batch/s, accuracy=99.8555, loss=0.0060]\n"
          ]
        },
        {
          "output_type": "stream",
          "name": "stdout",
          "text": [
            "Valid: Loss = 0.006202, Accuracy = 99.8238\n",
            "\n"
          ]
        },
        {
          "output_type": "stream",
          "name": "stderr",
          "text": [
            "Epoch 18: 100%|██████████| 476/476 [00:03<00:00, 123.09batch/s, accuracy=99.8161, loss=0.0075]\n"
          ]
        },
        {
          "output_type": "stream",
          "name": "stdout",
          "text": [
            "Valid: Loss = 0.007291, Accuracy = 99.8084\n",
            "\n"
          ]
        },
        {
          "output_type": "stream",
          "name": "stderr",
          "text": [
            "Epoch 19: 100%|██████████| 476/476 [00:03<00:00, 127.24batch/s, accuracy=99.8456, loss=0.0056]\n"
          ]
        },
        {
          "output_type": "stream",
          "name": "stdout",
          "text": [
            "Valid: Loss = 0.006753, Accuracy = 99.8008\n",
            "\n"
          ]
        },
        {
          "output_type": "stream",
          "name": "stderr",
          "text": [
            "Epoch 20: 100%|██████████| 476/476 [00:03<00:00, 122.45batch/s, accuracy=99.7997, loss=0.0068]\n"
          ]
        },
        {
          "output_type": "stream",
          "name": "stdout",
          "text": [
            "Valid: Loss = 0.008086, Accuracy = 99.8008\n",
            "\n"
          ]
        },
        {
          "output_type": "stream",
          "name": "stderr",
          "text": [
            "Epoch 21: 100%|██████████| 476/476 [00:03<00:00, 119.63batch/s, accuracy=99.8588, loss=0.0066]\n"
          ]
        },
        {
          "output_type": "stream",
          "name": "stdout",
          "text": [
            "Valid: Loss = 0.005158, Accuracy = 99.8467\n",
            "\n"
          ]
        },
        {
          "output_type": "stream",
          "name": "stderr",
          "text": [
            "Epoch 22: 100%|██████████| 476/476 [00:03<00:00, 127.49batch/s, accuracy=99.8719, loss=0.0055]\n"
          ]
        },
        {
          "output_type": "stream",
          "name": "stdout",
          "text": [
            "Valid: Loss = 0.00592, Accuracy = 99.7854\n",
            "\n"
          ]
        },
        {
          "output_type": "stream",
          "name": "stderr",
          "text": [
            "Epoch 23: 100%|██████████| 476/476 [00:03<00:00, 126.85batch/s, accuracy=99.8555, loss=0.0051]\n"
          ]
        },
        {
          "output_type": "stream",
          "name": "stdout",
          "text": [
            "Valid: Loss = 0.006063, Accuracy = 99.8238\n",
            "\n"
          ]
        },
        {
          "output_type": "stream",
          "name": "stderr",
          "text": [
            "Epoch 24: 100%|██████████| 476/476 [00:03<00:00, 126.87batch/s, accuracy=99.8588, loss=0.0057]\n"
          ]
        },
        {
          "output_type": "stream",
          "name": "stdout",
          "text": [
            "Valid: Loss = 0.004905, Accuracy = 99.8621\n",
            "\n"
          ]
        },
        {
          "output_type": "stream",
          "name": "stderr",
          "text": [
            "Epoch 25: 100%|██████████| 476/476 [00:04<00:00, 112.74batch/s, accuracy=99.8391, loss=0.0053]\n"
          ]
        },
        {
          "output_type": "stream",
          "name": "stdout",
          "text": [
            "Valid: Loss = 0.005577, Accuracy = 99.8621\n",
            "\n"
          ]
        },
        {
          "output_type": "stream",
          "name": "stderr",
          "text": [
            "Epoch 26: 100%|██████████| 476/476 [00:03<00:00, 128.58batch/s, accuracy=99.8489, loss=0.0052]\n"
          ]
        },
        {
          "output_type": "stream",
          "name": "stdout",
          "text": [
            "Valid: Loss = 0.005557, Accuracy = 99.8467\n",
            "\n"
          ]
        },
        {
          "output_type": "stream",
          "name": "stderr",
          "text": [
            "Epoch 27: 100%|██████████| 476/476 [00:03<00:00, 128.78batch/s, accuracy=99.8916, loss=0.0040]\n"
          ]
        },
        {
          "output_type": "stream",
          "name": "stdout",
          "text": [
            "Valid: Loss = 0.004493, Accuracy = 99.8544\n",
            "\n"
          ]
        },
        {
          "output_type": "stream",
          "name": "stderr",
          "text": [
            "Epoch 28: 100%|██████████| 476/476 [00:03<00:00, 120.97batch/s, accuracy=99.8489, loss=0.0065]\n"
          ]
        },
        {
          "output_type": "stream",
          "name": "stdout",
          "text": [
            "Valid: Loss = 0.006197, Accuracy = 99.8161\n",
            "\n"
          ]
        },
        {
          "output_type": "stream",
          "name": "stderr",
          "text": [
            "Epoch 29: 100%|██████████| 476/476 [00:04<00:00, 112.52batch/s, accuracy=99.8686, loss=0.0058]\n"
          ]
        },
        {
          "output_type": "stream",
          "name": "stdout",
          "text": [
            "Valid: Loss = 0.006643, Accuracy = 99.8314\n",
            "\n"
          ]
        }
      ]
    },
    {
      "cell_type": "markdown",
      "source": [
        "# **Plot📉**"
      ],
      "metadata": {
        "id": "NGnaneBEC4Yh"
      }
    },
    {
      "cell_type": "markdown",
      "source": [
        "### Loss"
      ],
      "metadata": {
        "id": "A5xIm3rpDPVw"
      }
    },
    {
      "cell_type": "code",
      "source": [
        "# plot loss_epoch\n",
        "plt.plot(range(total_epochs), loss_train_hist, 'b-', label=\"Train\")\n",
        "plt.plot(range(total_epochs), loss_valid_hist, 'r-', label=\"Validation\")\n",
        "\n",
        "plt.title(\"Training and Validation Loss\")\n",
        "plt.xlabel(\"Epoch\")\n",
        "plt.ylabel(\"Loss\")\n",
        "plt.grid(True)\n",
        "plt.legend()\n",
        "\n",
        "# Good fit model"
      ],
      "metadata": {
        "colab": {
          "base_uri": "https://localhost:8080/",
          "height": 489
        },
        "id": "n93LL6yuiOsH",
        "outputId": "c5772852-afa9-4e30-dedf-81e877555683"
      },
      "execution_count": null,
      "outputs": [
        {
          "output_type": "execute_result",
          "data": {
            "text/plain": [
              "<matplotlib.legend.Legend at 0x7d4f58fe7340>"
            ]
          },
          "metadata": {},
          "execution_count": 44
        },
        {
          "output_type": "display_data",
          "data": {
            "text/plain": [
              "<Figure size 640x480 with 1 Axes>"
            ],
            "image/png": "[encoded data removed]"
          },
          "metadata": {}
        }
      ]
    },
    {
      "cell_type": "markdown",
      "source": [
        "### Accuracy"
      ],
      "metadata": {
        "id": "deDxamPvDRFI"
      }
    },
    {
      "cell_type": "code",
      "source": [
        "# plot acc_epoch\n",
        "plt.plot(range(total_epochs), acc_train_hist, 'b-', label=\"Train\")\n",
        "plt.plot(range(total_epochs), acc_valid_hist, 'r-', label=\"Validation\")\n",
        "\n",
        "plt.title(\"Training and Validation Accuracy\")\n",
        "plt.xlabel(\"Epoch\")\n",
        "plt.ylabel(\"Accuracy\")\n",
        "plt.grid(True)\n",
        "plt.legend()"
      ],
      "metadata": {
        "colab": {
          "base_uri": "https://localhost:8080/",
          "height": 489
        },
        "id": "MbhZ6evgiWbv",
        "outputId": "e8c5fa4a-68e5-4e26-c74c-749b0c6c46d8"
      },
      "execution_count": null,
      "outputs": [
        {
          "output_type": "execute_result",
          "data": {
            "text/plain": [
              "<matplotlib.legend.Legend at 0x7d4f58212aa0>"
            ]
          },
          "metadata": {},
          "execution_count": 45
        },
        {
          "output_type": "display_data",
          "data": {
            "text/plain": [
              "<Figure size 640x480 with 1 Axes>"
            ],
            "image/png": "[encoded data removed]"
          },
          "metadata": {}
        }
      ]
    },
    {
      "cell_type": "markdown",
      "source": [
        "# **Save & Prediction🔎**"
      ],
      "metadata": {
        "id": "wHA4zxTkDVFY"
      }
    },
    {
      "cell_type": "markdown",
      "source": [
        "**Using \"Test\" Data without \"Labels\" to Predict labels**\n",
        "\n"
      ],
      "metadata": {
        "id": "1i1VSn8k5wcw"
      }
    },
    {
      "cell_type": "code",
      "source": [
        "df_test = pd.read_csv('/content/shuttledata_test.csv', header=None)\n",
        "X_test = df_test.values\n",
        "\n",
        "# Convert to tensor\n",
        "X_test = torch.FloatTensor(X_test)\n",
        "\n",
        "# Standardization\n",
        "X_test = (X_test - mu) / std"
      ],
      "metadata": {
        "id": "_1nsjt-VDiLZ"
      },
      "execution_count": null,
      "outputs": []
    },
    {
      "cell_type": "code",
      "source": [
        "# Compute predicted outputs\n",
        "test_preds = []\n",
        "\n",
        "# Load the model with Lowest Validation Loss (best model)\n",
        "model = mlp_model()\n",
        "state_dict = torch.load('/content/best-model.pt')\n",
        "model.load_state_dict(state_dict)\n",
        "model = model.to(device)\n",
        "\n",
        "with torch.no_grad():\n",
        "  for inputs in X_test:\n",
        "    inputs = inputs.to(device)\n",
        "    test_pred = model(inputs)\n",
        "    test_preds.append(test_pred.argmax().item() + 1) # class from 1 to 7\n",
        "\n",
        "# Save Prediction to CSV file\n",
        "header_list = ['pred']\n",
        "pd.DataFrame(test_preds).to_csv('/content/predictions.csv', header=header_list, index=False)\n"
      ],
      "metadata": {
        "id": "_sMjkWOqDjHo"
      },
      "execution_count": null,
      "outputs": []
    },
    {
      "cell_type": "markdown",
      "source": [
        "To realize whether the labels have been predicted correctly, we need to compare the predicted values with the ground truth targets in Test Data."
      ],
      "metadata": {
        "id": "y7W9yk4iNX_n"
      }
    },
    {
      "cell_type": "code",
      "source": [
        "main_test = pd.read_csv('/content/full_test_homework_5.csv',header=None).values\n",
        "pred = main_test[:,-1]\n",
        "pred_va = pd.read_csv('/content/predictions.csv').values\n",
        "pred_vali = pred_va[:,-1]\n",
        "import numpy as np\n",
        "\n",
        "acc_test = 100. * np.sum(pred == pred_vali)/len(pred)\n",
        "print(acc_test)"
      ],
      "metadata": {
        "colab": {
          "base_uri": "https://localhost:8080/"
        },
        "id": "CKTHSnrkInre",
        "outputId": "79e16713-88e8-4a7c-ad31-fd48cf0bae9a"
      },
      "execution_count": null,
      "outputs": [
        {
          "output_type": "stream",
          "name": "stdout",
          "text": [
            "99.8344827586207\n"
          ]
        }
      ]
    },
    {
      "cell_type": "markdown",
      "source": [
        "# **Overfitting (using Dropout Technique)🌟**"
      ],
      "metadata": {
        "id": "KmwxbIyjDlxw"
      }
    },
    {
      "cell_type": "code",
      "source": [
        "# Subset of Train Dataset\n",
        "num_data = int(0.3 * len(train_dataset)) # select 30 percent of dataset =  13050 sample\n",
        "subset_train_dataset, _ = random_split(train_dataset, (num_data, len(train_dataset)-num_data))\n",
        "X_subset = X[subset_train_dataset.indices]\n",
        "y_subset = y[subset_train_dataset.indices]\n",
        "\n",
        "# Split\n",
        "X_subset_train, X_subset_valid, y_subset_train, y_subset_valid = train_test_split(X_subset, y_subset, train_size=0.7, random_state=42)\n",
        "\n",
        "# Convert to tensor\n",
        "X_subset_train = torch.FloatTensor(X_subset_train)\n",
        "y_subset_train = torch.LongTensor(y_subset_train)\n",
        "\n",
        "X_subset_valid = torch.FloatTensor(X_subset_valid)\n",
        "y_subset_valid = torch.LongTensor(y_subset_valid)\n",
        "\n",
        "# Standardization\n",
        "mu = torch.mean(X_subset_train, dim=0)\n",
        "std = torch.std(X_subset_train, dim=0)\n",
        "\n",
        "X_subset_train = (X_subset_train - mu) / std\n",
        "X_subset_valid = (X_subset_valid - mu) / std"
      ],
      "metadata": {
        "id": "jNLZfY2b8WXC"
      },
      "execution_count": null,
      "outputs": []
    },
    {
      "cell_type": "code",
      "source": [
        "def mlp():\n",
        "  \"\"\"Initializes multi layer perceptron model\"\"\"\n",
        "  in_features = 9\n",
        "  num_class = 7\n",
        "  h1 = 1024\n",
        "  h2 = 512\n",
        "  h3 = 256\n",
        "\n",
        "  model = nn.Sequential(nn.Linear(in_features, h1),\n",
        "                        nn.ReLU(),\n",
        "                        #nn.Dropout(p=0.5),\n",
        "                        nn.Linear(h1, h2),\n",
        "                        nn.ReLU(),\n",
        "                        #nn.Dropout(p=0.5),\n",
        "                        nn.Linear(h2, h3),\n",
        "                        nn.ReLU(),\n",
        "                        #nn.Dropout(p=0.5),\n",
        "                        nn.Linear(h3, num_class))\n",
        "  return model\n",
        "################################################################################\n",
        "\n",
        "total_epochs = 0\n",
        "loss_subset_train_hist = []\n",
        "loss_subset_valid_hist = []\n",
        "\n",
        "acc_subset_train_hist = []\n",
        "acc_subset_valid_hist = []\n",
        "\n",
        "model = mlp()\n",
        "model = model.to(device)\n",
        "\n",
        "loss_fn = nn.CrossEntropyLoss()\n",
        "optimizer = optim.SGD(model.parameters(), lr=0.01, weight_decay=1e-04, momentum=0.9, nesterov=True)\n"
      ],
      "metadata": {
        "id": "BxyCb7DbDxO5"
      },
      "execution_count": null,
      "outputs": []
    },
    {
      "cell_type": "code",
      "source": [
        "num_epochs = 60\n",
        "\n",
        "for epoch in range(num_epochs):\n",
        "  # Train\n",
        "  model, loss_train, acc_train = train_one_epoch(model, train_loader, loss_fn, optimizer, epoch)\n",
        "\n",
        "  # Validation\n",
        "  loss_valid, acc_valid = evaluate(model, valid_loader, loss_fn)\n",
        "\n",
        "  loss_subset_train_hist.append(loss_train)\n",
        "  loss_subset_valid_hist.append(loss_valid)\n",
        "\n",
        "  acc_subset_train_hist.append(acc_train.cpu())\n",
        "  acc_subset_valid_hist.append(acc_valid.cpu())\n",
        "\n",
        "  print(f'Valid: Loss = {loss_valid:.4}, Accuracy = {100.*acc_valid:.4f}\\n')\n",
        "  total_epochs += 1"
      ],
      "metadata": {
        "colab": {
          "base_uri": "https://localhost:8080/"
        },
        "id": "irXiubLsAppa",
        "outputId": "c64bd3fd-8eb1-4510-8c53-9aa0e99952ca"
      },
      "execution_count": null,
      "outputs": [
        {
          "output_type": "stream",
          "name": "stderr",
          "text": [
            "Epoch 0: 100%|██████████| 476/476 [00:04<00:00, 111.52batch/s, accuracy=97.0542, loss=0.1524]\n"
          ]
        },
        {
          "output_type": "stream",
          "name": "stdout",
          "text": [
            "Valid: Loss = 0.03677, Accuracy = 99.4330\n",
            "\n"
          ]
        },
        {
          "output_type": "stream",
          "name": "stderr",
          "text": [
            "Epoch 1: 100%|██████████| 476/476 [00:03<00:00, 121.39batch/s, accuracy=99.3136, loss=0.0366]\n"
          ]
        },
        {
          "output_type": "stream",
          "name": "stdout",
          "text": [
            "Valid: Loss = 0.02682, Accuracy = 99.5479\n",
            "\n"
          ]
        },
        {
          "output_type": "stream",
          "name": "stderr",
          "text": [
            "Epoch 2: 100%|██████████| 476/476 [00:03<00:00, 130.31batch/s, accuracy=99.4943, loss=0.0254]\n"
          ]
        },
        {
          "output_type": "stream",
          "name": "stdout",
          "text": [
            "Valid: Loss = 0.02186, Accuracy = 99.5249\n",
            "\n"
          ]
        },
        {
          "output_type": "stream",
          "name": "stderr",
          "text": [
            "Epoch 3: 100%|██████████| 476/476 [00:03<00:00, 127.67batch/s, accuracy=99.5107, loss=0.0211]\n"
          ]
        },
        {
          "output_type": "stream",
          "name": "stdout",
          "text": [
            "Valid: Loss = 0.01761, Accuracy = 99.6705\n",
            "\n"
          ]
        },
        {
          "output_type": "stream",
          "name": "stderr",
          "text": [
            "Epoch 4: 100%|██████████| 476/476 [00:04<00:00, 113.66batch/s, accuracy=99.6125, loss=0.0167]\n"
          ]
        },
        {
          "output_type": "stream",
          "name": "stdout",
          "text": [
            "Valid: Loss = 0.01409, Accuracy = 99.7165\n",
            "\n"
          ]
        },
        {
          "output_type": "stream",
          "name": "stderr",
          "text": [
            "Epoch 5: 100%|██████████| 476/476 [00:05<00:00, 92.03batch/s, accuracy=99.6585, loss=0.0142]\n"
          ]
        },
        {
          "output_type": "stream",
          "name": "stdout",
          "text": [
            "Valid: Loss = 0.01674, Accuracy = 99.6552\n",
            "\n"
          ]
        },
        {
          "output_type": "stream",
          "name": "stderr",
          "text": [
            "Epoch 6: 100%|██████████| 476/476 [00:04<00:00, 97.52batch/s, accuracy=99.6913, loss=0.0126]\n"
          ]
        },
        {
          "output_type": "stream",
          "name": "stdout",
          "text": [
            "Valid: Loss = 0.01037, Accuracy = 99.7395\n",
            "\n"
          ]
        },
        {
          "output_type": "stream",
          "name": "stderr",
          "text": [
            "Epoch 7: 100%|██████████| 476/476 [00:04<00:00, 105.74batch/s, accuracy=99.6979, loss=0.0112]\n"
          ]
        },
        {
          "output_type": "stream",
          "name": "stdout",
          "text": [
            "Valid: Loss = 0.01282, Accuracy = 99.7241\n",
            "\n"
          ]
        },
        {
          "output_type": "stream",
          "name": "stderr",
          "text": [
            "Epoch 8: 100%|██████████| 476/476 [00:03<00:00, 125.83batch/s, accuracy=99.7471, loss=0.0095]\n"
          ]
        },
        {
          "output_type": "stream",
          "name": "stdout",
          "text": [
            "Valid: Loss = 0.008599, Accuracy = 99.7625\n",
            "\n"
          ]
        },
        {
          "output_type": "stream",
          "name": "stderr",
          "text": [
            "Epoch 9: 100%|██████████| 476/476 [00:03<00:00, 128.18batch/s, accuracy=99.7701, loss=0.0091]\n"
          ]
        },
        {
          "output_type": "stream",
          "name": "stdout",
          "text": [
            "Valid: Loss = 0.01217, Accuracy = 99.6858\n",
            "\n"
          ]
        },
        {
          "output_type": "stream",
          "name": "stderr",
          "text": [
            "Epoch 10: 100%|██████████| 476/476 [00:03<00:00, 119.83batch/s, accuracy=99.7635, loss=0.0082]\n"
          ]
        },
        {
          "output_type": "stream",
          "name": "stdout",
          "text": [
            "Valid: Loss = 0.01484, Accuracy = 99.7241\n",
            "\n"
          ]
        },
        {
          "output_type": "stream",
          "name": "stderr",
          "text": [
            "Epoch 11: 100%|██████████| 476/476 [00:04<00:00, 117.19batch/s, accuracy=99.7800, loss=0.0071]\n"
          ]
        },
        {
          "output_type": "stream",
          "name": "stdout",
          "text": [
            "Valid: Loss = 0.007907, Accuracy = 99.7625\n",
            "\n"
          ]
        },
        {
          "output_type": "stream",
          "name": "stderr",
          "text": [
            "Epoch 12: 100%|██████████| 476/476 [00:03<00:00, 127.29batch/s, accuracy=99.8095, loss=0.0061]\n"
          ]
        },
        {
          "output_type": "stream",
          "name": "stdout",
          "text": [
            "Valid: Loss = 0.009303, Accuracy = 99.7778\n",
            "\n"
          ]
        },
        {
          "output_type": "stream",
          "name": "stderr",
          "text": [
            "Epoch 13: 100%|██████████| 476/476 [00:03<00:00, 127.10batch/s, accuracy=99.8292, loss=0.0062]\n"
          ]
        },
        {
          "output_type": "stream",
          "name": "stdout",
          "text": [
            "Valid: Loss = 0.01054, Accuracy = 99.7854\n",
            "\n"
          ]
        },
        {
          "output_type": "stream",
          "name": "stderr",
          "text": [
            "Epoch 14: 100%|██████████| 476/476 [00:04<00:00, 117.43batch/s, accuracy=99.8227, loss=0.0060]\n"
          ]
        },
        {
          "output_type": "stream",
          "name": "stdout",
          "text": [
            "Valid: Loss = 0.007107, Accuracy = 99.8008\n",
            "\n"
          ]
        },
        {
          "output_type": "stream",
          "name": "stderr",
          "text": [
            "Epoch 15: 100%|██████████| 476/476 [00:05<00:00, 92.96batch/s, accuracy=99.8424, loss=0.0054] \n"
          ]
        },
        {
          "output_type": "stream",
          "name": "stdout",
          "text": [
            "Valid: Loss = 0.007383, Accuracy = 99.8008\n",
            "\n"
          ]
        },
        {
          "output_type": "stream",
          "name": "stderr",
          "text": [
            "Epoch 16: 100%|██████████| 476/476 [00:03<00:00, 127.60batch/s, accuracy=99.8456, loss=0.0048]\n"
          ]
        },
        {
          "output_type": "stream",
          "name": "stdout",
          "text": [
            "Valid: Loss = 0.007302, Accuracy = 99.7701\n",
            "\n"
          ]
        },
        {
          "output_type": "stream",
          "name": "stderr",
          "text": [
            "Epoch 17: 100%|██████████| 476/476 [00:03<00:00, 123.64batch/s, accuracy=99.8654, loss=0.0050]\n"
          ]
        },
        {
          "output_type": "stream",
          "name": "stdout",
          "text": [
            "Valid: Loss = 0.004423, Accuracy = 99.8774\n",
            "\n"
          ]
        },
        {
          "output_type": "stream",
          "name": "stderr",
          "text": [
            "Epoch 18: 100%|██████████| 476/476 [00:04<00:00, 112.01batch/s, accuracy=99.8719, loss=0.0043]\n"
          ]
        },
        {
          "output_type": "stream",
          "name": "stdout",
          "text": [
            "Valid: Loss = 0.005723, Accuracy = 99.8697\n",
            "\n"
          ]
        },
        {
          "output_type": "stream",
          "name": "stderr",
          "text": [
            "Epoch 19: 100%|██████████| 476/476 [00:03<00:00, 123.73batch/s, accuracy=99.8555, loss=0.0042]\n"
          ]
        },
        {
          "output_type": "stream",
          "name": "stdout",
          "text": [
            "Valid: Loss = 0.005423, Accuracy = 99.8391\n",
            "\n"
          ]
        },
        {
          "output_type": "stream",
          "name": "stderr",
          "text": [
            "Epoch 20: 100%|██████████| 476/476 [00:03<00:00, 124.74batch/s, accuracy=99.8719, loss=0.0036]\n"
          ]
        },
        {
          "output_type": "stream",
          "name": "stdout",
          "text": [
            "Valid: Loss = 0.004471, Accuracy = 99.8621\n",
            "\n"
          ]
        },
        {
          "output_type": "stream",
          "name": "stderr",
          "text": [
            "Epoch 21: 100%|██████████| 476/476 [00:04<00:00, 118.34batch/s, accuracy=99.8949, loss=0.0035]\n"
          ]
        },
        {
          "output_type": "stream",
          "name": "stdout",
          "text": [
            "Valid: Loss = 0.006137, Accuracy = 99.8467\n",
            "\n"
          ]
        },
        {
          "output_type": "stream",
          "name": "stderr",
          "text": [
            "Epoch 22: 100%|██████████| 476/476 [00:04<00:00, 112.23batch/s, accuracy=99.8916, loss=0.0040]\n"
          ]
        },
        {
          "output_type": "stream",
          "name": "stdout",
          "text": [
            "Valid: Loss = 0.00755, Accuracy = 99.7931\n",
            "\n"
          ]
        },
        {
          "output_type": "stream",
          "name": "stderr",
          "text": [
            "Epoch 23: 100%|██████████| 476/476 [00:03<00:00, 127.71batch/s, accuracy=99.8719, loss=0.0044]\n"
          ]
        },
        {
          "output_type": "stream",
          "name": "stdout",
          "text": [
            "Valid: Loss = 0.006493, Accuracy = 99.8467\n",
            "\n"
          ]
        },
        {
          "output_type": "stream",
          "name": "stderr",
          "text": [
            "Epoch 24: 100%|██████████| 476/476 [00:03<00:00, 127.09batch/s, accuracy=99.8916, loss=0.0039]\n"
          ]
        },
        {
          "output_type": "stream",
          "name": "stdout",
          "text": [
            "Valid: Loss = 0.005827, Accuracy = 99.8697\n",
            "\n"
          ]
        },
        {
          "output_type": "stream",
          "name": "stderr",
          "text": [
            "Epoch 25: 100%|██████████| 476/476 [00:04<00:00, 115.61batch/s, accuracy=99.9048, loss=0.0033]\n"
          ]
        },
        {
          "output_type": "stream",
          "name": "stdout",
          "text": [
            "Valid: Loss = 0.006212, Accuracy = 99.8161\n",
            "\n"
          ]
        },
        {
          "output_type": "stream",
          "name": "stderr",
          "text": [
            "Epoch 26: 100%|██████████| 476/476 [00:04<00:00, 113.82batch/s, accuracy=99.9278, loss=0.0031]\n"
          ]
        },
        {
          "output_type": "stream",
          "name": "stdout",
          "text": [
            "Valid: Loss = 0.004479, Accuracy = 99.8544\n",
            "\n"
          ]
        },
        {
          "output_type": "stream",
          "name": "stderr",
          "text": [
            "Epoch 27: 100%|██████████| 476/476 [00:03<00:00, 126.09batch/s, accuracy=99.8949, loss=0.0032]\n"
          ]
        },
        {
          "output_type": "stream",
          "name": "stdout",
          "text": [
            "Valid: Loss = 0.004023, Accuracy = 99.9004\n",
            "\n"
          ]
        },
        {
          "output_type": "stream",
          "name": "stderr",
          "text": [
            "Epoch 28: 100%|██████████| 476/476 [00:03<00:00, 125.51batch/s, accuracy=99.8916, loss=0.0044]\n"
          ]
        },
        {
          "output_type": "stream",
          "name": "stdout",
          "text": [
            "Valid: Loss = 0.005946, Accuracy = 99.8544\n",
            "\n"
          ]
        },
        {
          "output_type": "stream",
          "name": "stderr",
          "text": [
            "Epoch 29: 100%|██████████| 476/476 [00:04<00:00, 115.53batch/s, accuracy=99.9015, loss=0.0034]\n"
          ]
        },
        {
          "output_type": "stream",
          "name": "stdout",
          "text": [
            "Valid: Loss = 0.004699, Accuracy = 99.8467\n",
            "\n"
          ]
        },
        {
          "output_type": "stream",
          "name": "stderr",
          "text": [
            "Epoch 30: 100%|██████████| 476/476 [00:04<00:00, 114.92batch/s, accuracy=99.9179, loss=0.0027]\n"
          ]
        },
        {
          "output_type": "stream",
          "name": "stdout",
          "text": [
            "Valid: Loss = 0.003646, Accuracy = 99.8851\n",
            "\n"
          ]
        },
        {
          "output_type": "stream",
          "name": "stderr",
          "text": [
            "Epoch 31: 100%|██████████| 476/476 [00:03<00:00, 126.07batch/s, accuracy=99.9310, loss=0.0028]\n"
          ]
        },
        {
          "output_type": "stream",
          "name": "stdout",
          "text": [
            "Valid: Loss = 0.004704, Accuracy = 99.8774\n",
            "\n"
          ]
        },
        {
          "output_type": "stream",
          "name": "stderr",
          "text": [
            "Epoch 32: 100%|██████████| 476/476 [00:03<00:00, 120.14batch/s, accuracy=99.9343, loss=0.0024]\n"
          ]
        },
        {
          "output_type": "stream",
          "name": "stdout",
          "text": [
            "Valid: Loss = 0.003372, Accuracy = 99.8774\n",
            "\n"
          ]
        },
        {
          "output_type": "stream",
          "name": "stderr",
          "text": [
            "Epoch 33: 100%|██████████| 476/476 [00:03<00:00, 120.51batch/s, accuracy=99.9179, loss=0.0029]\n"
          ]
        },
        {
          "output_type": "stream",
          "name": "stdout",
          "text": [
            "Valid: Loss = 0.004141, Accuracy = 99.8391\n",
            "\n"
          ]
        },
        {
          "output_type": "stream",
          "name": "stderr",
          "text": [
            "Epoch 34: 100%|██████████| 476/476 [00:04<00:00, 118.73batch/s, accuracy=99.9278, loss=0.0029]\n"
          ]
        },
        {
          "output_type": "stream",
          "name": "stdout",
          "text": [
            "Valid: Loss = 0.003817, Accuracy = 99.8851\n",
            "\n"
          ]
        },
        {
          "output_type": "stream",
          "name": "stderr",
          "text": [
            "Epoch 35: 100%|██████████| 476/476 [00:03<00:00, 126.40batch/s, accuracy=99.9376, loss=0.0023]\n"
          ]
        },
        {
          "output_type": "stream",
          "name": "stdout",
          "text": [
            "Valid: Loss = 0.003054, Accuracy = 99.9004\n",
            "\n"
          ]
        },
        {
          "output_type": "stream",
          "name": "stderr",
          "text": [
            "Epoch 36: 100%|██████████| 476/476 [00:04<00:00, 118.18batch/s, accuracy=99.9376, loss=0.0023]\n"
          ]
        },
        {
          "output_type": "stream",
          "name": "stdout",
          "text": [
            "Valid: Loss = 0.003927, Accuracy = 99.9004\n",
            "\n"
          ]
        },
        {
          "output_type": "stream",
          "name": "stderr",
          "text": [
            "Epoch 37: 100%|██████████| 476/476 [00:04<00:00, 112.22batch/s, accuracy=99.9409, loss=0.0023]\n"
          ]
        },
        {
          "output_type": "stream",
          "name": "stdout",
          "text": [
            "Valid: Loss = 0.002914, Accuracy = 99.9157\n",
            "\n"
          ]
        },
        {
          "output_type": "stream",
          "name": "stderr",
          "text": [
            "Epoch 38: 100%|██████████| 476/476 [00:03<00:00, 125.52batch/s, accuracy=99.9507, loss=0.0022]\n"
          ]
        },
        {
          "output_type": "stream",
          "name": "stdout",
          "text": [
            "Valid: Loss = 0.005816, Accuracy = 99.8467\n",
            "\n"
          ]
        },
        {
          "output_type": "stream",
          "name": "stderr",
          "text": [
            "Epoch 39: 100%|██████████| 476/476 [00:03<00:00, 123.86batch/s, accuracy=99.9376, loss=0.0023]\n"
          ]
        },
        {
          "output_type": "stream",
          "name": "stdout",
          "text": [
            "Valid: Loss = 0.003439, Accuracy = 99.8927\n",
            "\n"
          ]
        },
        {
          "output_type": "stream",
          "name": "stderr",
          "text": [
            "Epoch 40: 100%|██████████| 476/476 [00:04<00:00, 101.63batch/s, accuracy=99.9245, loss=0.0027]\n"
          ]
        },
        {
          "output_type": "stream",
          "name": "stdout",
          "text": [
            "Valid: Loss = 0.003439, Accuracy = 99.9157\n",
            "\n"
          ]
        },
        {
          "output_type": "stream",
          "name": "stderr",
          "text": [
            "Epoch 41: 100%|██████████| 476/476 [00:04<00:00, 117.11batch/s, accuracy=99.9442, loss=0.0020]\n"
          ]
        },
        {
          "output_type": "stream",
          "name": "stdout",
          "text": [
            "Valid: Loss = 0.003602, Accuracy = 99.8774\n",
            "\n"
          ]
        },
        {
          "output_type": "stream",
          "name": "stderr",
          "text": [
            "Epoch 42: 100%|██████████| 476/476 [00:03<00:00, 124.58batch/s, accuracy=99.9573, loss=0.0019]\n"
          ]
        },
        {
          "output_type": "stream",
          "name": "stdout",
          "text": [
            "Valid: Loss = 0.003105, Accuracy = 99.9081\n",
            "\n"
          ]
        },
        {
          "output_type": "stream",
          "name": "stderr",
          "text": [
            "Epoch 43: 100%|██████████| 476/476 [00:04<00:00, 116.65batch/s, accuracy=99.9376, loss=0.0020]\n"
          ]
        },
        {
          "output_type": "stream",
          "name": "stdout",
          "text": [
            "Valid: Loss = 0.002951, Accuracy = 99.9234\n",
            "\n"
          ]
        },
        {
          "output_type": "stream",
          "name": "stderr",
          "text": [
            "Epoch 44: 100%|██████████| 476/476 [00:04<00:00, 115.52batch/s, accuracy=99.9606, loss=0.0016]\n"
          ]
        },
        {
          "output_type": "stream",
          "name": "stdout",
          "text": [
            "Valid: Loss = 0.002952, Accuracy = 99.9004\n",
            "\n"
          ]
        },
        {
          "output_type": "stream",
          "name": "stderr",
          "text": [
            "Epoch 45: 100%|██████████| 476/476 [00:04<00:00, 104.75batch/s, accuracy=99.9442, loss=0.0018]\n"
          ]
        },
        {
          "output_type": "stream",
          "name": "stdout",
          "text": [
            "Valid: Loss = 0.003234, Accuracy = 99.8927\n",
            "\n"
          ]
        },
        {
          "output_type": "stream",
          "name": "stderr",
          "text": [
            "Epoch 46: 100%|██████████| 476/476 [00:04<00:00, 117.91batch/s, accuracy=99.9573, loss=0.0017]\n"
          ]
        },
        {
          "output_type": "stream",
          "name": "stdout",
          "text": [
            "Valid: Loss = 0.003066, Accuracy = 99.9157\n",
            "\n"
          ]
        },
        {
          "output_type": "stream",
          "name": "stderr",
          "text": [
            "Epoch 47: 100%|██████████| 476/476 [00:03<00:00, 120.10batch/s, accuracy=99.9409, loss=0.0018]\n"
          ]
        },
        {
          "output_type": "stream",
          "name": "stdout",
          "text": [
            "Valid: Loss = 0.002522, Accuracy = 99.9004\n",
            "\n"
          ]
        },
        {
          "output_type": "stream",
          "name": "stderr",
          "text": [
            "Epoch 48: 100%|██████████| 476/476 [00:04<00:00, 106.18batch/s, accuracy=99.9146, loss=0.0032]\n"
          ]
        },
        {
          "output_type": "stream",
          "name": "stdout",
          "text": [
            "Valid: Loss = 0.003966, Accuracy = 99.8851\n",
            "\n"
          ]
        },
        {
          "output_type": "stream",
          "name": "stderr",
          "text": [
            "Epoch 49: 100%|██████████| 476/476 [00:03<00:00, 121.82batch/s, accuracy=99.9376, loss=0.0021]\n"
          ]
        },
        {
          "output_type": "stream",
          "name": "stdout",
          "text": [
            "Valid: Loss = 0.00422, Accuracy = 99.8851\n",
            "\n"
          ]
        },
        {
          "output_type": "stream",
          "name": "stderr",
          "text": [
            "Epoch 50: 100%|██████████| 476/476 [00:04<00:00, 118.52batch/s, accuracy=99.9310, loss=0.0018]\n"
          ]
        },
        {
          "output_type": "stream",
          "name": "stdout",
          "text": [
            "Valid: Loss = 0.003637, Accuracy = 99.9081\n",
            "\n"
          ]
        },
        {
          "output_type": "stream",
          "name": "stderr",
          "text": [
            "Epoch 51: 100%|██████████| 476/476 [00:04<00:00, 112.08batch/s, accuracy=99.9639, loss=0.0016]\n"
          ]
        },
        {
          "output_type": "stream",
          "name": "stdout",
          "text": [
            "Valid: Loss = 0.003314, Accuracy = 99.9081\n",
            "\n"
          ]
        },
        {
          "output_type": "stream",
          "name": "stderr",
          "text": [
            "Epoch 52: 100%|██████████| 476/476 [00:04<00:00, 112.08batch/s, accuracy=99.9179, loss=0.0030]\n"
          ]
        },
        {
          "output_type": "stream",
          "name": "stdout",
          "text": [
            "Valid: Loss = 0.004031, Accuracy = 99.8851\n",
            "\n"
          ]
        },
        {
          "output_type": "stream",
          "name": "stderr",
          "text": [
            "Epoch 53: 100%|██████████| 476/476 [00:03<00:00, 123.30batch/s, accuracy=99.9212, loss=0.0025]\n"
          ]
        },
        {
          "output_type": "stream",
          "name": "stdout",
          "text": [
            "Valid: Loss = 0.003839, Accuracy = 99.9081\n",
            "\n"
          ]
        },
        {
          "output_type": "stream",
          "name": "stderr",
          "text": [
            "Epoch 54: 100%|██████████| 476/476 [00:03<00:00, 120.04batch/s, accuracy=99.9376, loss=0.0022]\n"
          ]
        },
        {
          "output_type": "stream",
          "name": "stdout",
          "text": [
            "Valid: Loss = 0.003126, Accuracy = 99.9081\n",
            "\n"
          ]
        },
        {
          "output_type": "stream",
          "name": "stderr",
          "text": [
            "Epoch 55: 100%|██████████| 476/476 [00:04<00:00, 118.56batch/s, accuracy=99.9343, loss=0.0021]\n"
          ]
        },
        {
          "output_type": "stream",
          "name": "stdout",
          "text": [
            "Valid: Loss = 0.003321, Accuracy = 99.8774\n",
            "\n"
          ]
        },
        {
          "output_type": "stream",
          "name": "stderr",
          "text": [
            "Epoch 56: 100%|██████████| 476/476 [00:04<00:00, 115.22batch/s, accuracy=99.9540, loss=0.0018]\n"
          ]
        },
        {
          "output_type": "stream",
          "name": "stdout",
          "text": [
            "Valid: Loss = 0.002863, Accuracy = 99.8927\n",
            "\n"
          ]
        },
        {
          "output_type": "stream",
          "name": "stderr",
          "text": [
            "Epoch 57: 100%|██████████| 476/476 [00:05<00:00, 93.85batch/s, accuracy=99.9475, loss=0.0019] \n"
          ]
        },
        {
          "output_type": "stream",
          "name": "stdout",
          "text": [
            "Valid: Loss = 0.003113, Accuracy = 99.9157\n",
            "\n"
          ]
        },
        {
          "output_type": "stream",
          "name": "stderr",
          "text": [
            "Epoch 58: 100%|██████████| 476/476 [00:03<00:00, 119.15batch/s, accuracy=99.9507, loss=0.0017]\n"
          ]
        },
        {
          "output_type": "stream",
          "name": "stdout",
          "text": [
            "Valid: Loss = 0.002896, Accuracy = 99.9234\n",
            "\n"
          ]
        },
        {
          "output_type": "stream",
          "name": "stderr",
          "text": [
            "Epoch 59: 100%|██████████| 476/476 [00:04<00:00, 117.14batch/s, accuracy=99.9409, loss=0.0017]\n"
          ]
        },
        {
          "output_type": "stream",
          "name": "stdout",
          "text": [
            "Valid: Loss = 0.003109, Accuracy = 99.9157\n",
            "\n"
          ]
        }
      ]
    },
    {
      "cell_type": "code",
      "source": [
        "# plot loss_epoch\n",
        "plt.plot(range(total_epochs), loss_subset_train_hist, 'b-', label=\"Train\")\n",
        "plt.plot(range(total_epochs), loss_subset_valid_hist, 'r-', label=\"Validation\")\n",
        "\n",
        "plt.title(\"Training and Validation Loss\")\n",
        "plt.xlabel(\"Epoch\")\n",
        "plt.ylabel(\"Loss\")\n",
        "plt.grid(True)\n",
        "plt.legend()"
      ],
      "metadata": {
        "colab": {
          "base_uri": "https://localhost:8080/",
          "height": 489
        },
        "id": "ioX5B-eIJR6a",
        "outputId": "a691e759-4c08-4480-9a04-9f899b02b371"
      },
      "execution_count": null,
      "outputs": [
        {
          "output_type": "execute_result",
          "data": {
            "text/plain": [
              "<matplotlib.legend.Legend at 0x7d4f58f06da0>"
            ]
          },
          "metadata": {},
          "execution_count": 50
        },
        {
          "output_type": "display_data",
          "data": {
            "text/plain": [
              "<Figure size 640x480 with 1 Axes>"
            ],
            "image/png": "[encoded data removed]"
          },
          "metadata": {}
        }
      ]
    },
    {
      "cell_type": "code",
      "source": [
        "# plot acc_epoch\n",
        "plt.plot(range(total_epochs), acc_subset_train_hist, 'b-', label=\"Train\")\n",
        "plt.plot(range(total_epochs), acc_subset_valid_hist, 'r-', label=\"Validation\")\n",
        "\n",
        "plt.title(\"Training and Validation Accuracy\")\n",
        "plt.xlabel(\"Epoch\")\n",
        "plt.ylabel(\"Accuracy\")\n",
        "plt.grid(True)\n",
        "plt.legend()"
      ],
      "metadata": {
        "colab": {
          "base_uri": "https://localhost:8080/",
          "height": 489
        },
        "id": "PPt3xHQJWdSu",
        "outputId": "ac7eda7d-ff57-4e32-e6e8-50aad824537f"
      },
      "execution_count": null,
      "outputs": [
        {
          "output_type": "execute_result",
          "data": {
            "text/plain": [
              "<matplotlib.legend.Legend at 0x7d4f681b8e50>"
            ]
          },
          "metadata": {},
          "execution_count": 51
        },
        {
          "output_type": "display_data",
          "data": {
            "text/plain": [
              "<Figure size 640x480 with 1 Axes>"
            ],
            "image/png": "[encoded data removed]"
          },
          "metadata": {}
        }
      ]
    }
  ]
}
